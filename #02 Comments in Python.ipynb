{
 "cells": [
  {
   "cell_type": "markdown",
   "id": "0505ea8b",
   "metadata": {},
   "source": [
    "# **Comments in Python**\n",
    "\n",
    "## **What are Comments in Python?**\n",
    "Comments in Python are used to add explanatory or descriptive text to your code. They are ignored by the Python interpreter and do not affect program execution. Comments help improve code readability and make it easier to understand."
   ]
  },
  {
   "cell_type": "markdown",
   "id": "ca6b9343",
   "metadata": {},
   "source": [
    "## **1. Single-Line Comments**\n",
    "Single-line comments begin with the `#` symbol and continue until the end of the line. They are used to comment on a single line or provide brief explanations."
   ]
  },
  {
   "cell_type": "code",
   "execution_count": 1,
   "id": "ee330e61",
   "metadata": {},
   "outputs": [
    {
     "name": "stdout",
     "output_type": "stream",
     "text": [
      "Hello, World!\n"
     ]
    }
   ],
   "source": [
    "# This is a single-line comment\n",
    "print(\"Hello, World!\")  # This comment explains the print statement"
   ]
  },
  {
   "cell_type": "code",
   "execution_count": 3,
   "id": "eb94ca8c",
   "metadata": {},
   "outputs": [
    {
     "name": "stdout",
     "output_type": "stream",
     "text": [
      "Sum: 15\n"
     ]
    }
   ],
   "source": [
    "# You can also use single-line comments to describe variables:\n",
    "x = 10  # This is a variable storing the number 10\n",
    "y = 5   # Another variable\n",
    "sum = x + y  # Adding x and y\n",
    "print(\"Sum:\", sum)"
   ]
  },
  {
   "cell_type": "markdown",
   "id": "5ea633e5",
   "metadata": {},
   "source": [
    "## **2. Multi-Line Comments (Docstrings)**\n",
    "Multi-line comments, also known as docstrings, are used for longer comments that span multiple lines. They are enclosed between triple quotes (`'''` or `\"\"\"`) and can be used to describe functions, classes, or modules."
   ]
  },
  {
   "cell_type": "code",
   "execution_count": 2,
   "id": "4ee19467",
   "metadata": {},
   "outputs": [
    {
     "name": "stdout",
     "output_type": "stream",
     "text": [
      "Ahsan\n"
     ]
    }
   ],
   "source": [
    "\"\"\"\n",
    "This is a multi-line comment.\n",
    "It explains the following code.\n",
    "The next line will print your name.\n",
    "\"\"\"\n",
    "\n",
    "print(\"Ahsan\")"
   ]
  },
  {
   "cell_type": "markdown",
   "id": "74db2e17",
   "metadata": {},
   "source": [
    "## **Commenting Out Code**\n",
    "Comments can also be used to temporarily disable or \"comment out\" sections of code that you don't want to execute. By commenting out code, you can easily enable or disable specific sections without having to delete or rewrite the code."
   ]
  },
  {
   "cell_type": "code",
   "execution_count": 3,
   "id": "bf2d14af",
   "metadata": {},
   "outputs": [
    {
     "name": "stdout",
     "output_type": "stream",
     "text": [
      "This line will be executed\n"
     ]
    }
   ],
   "source": [
    "# print(\"This line won't be executed\")\n",
    "print(\"This line will be executed\")"
   ]
  },
  {
   "cell_type": "markdown",
   "id": "2377e4d1",
   "metadata": {},
   "source": [
    "Remember, comments are a valuable tool for communicating and documenting your code, so use them wisely to make your code more understandable and maintainable."
   ]
  }
 ],
 "metadata": {
  "kernelspec": {
   "display_name": "learning_python",
   "language": "python",
   "name": "python3"
  },
  "language_info": {
   "codemirror_mode": {
    "name": "ipython",
    "version": 3
   },
   "file_extension": ".py",
   "mimetype": "text/x-python",
   "name": "python",
   "nbconvert_exporter": "python",
   "pygments_lexer": "ipython3",
   "version": "3.11.12"
  }
 },
 "nbformat": 4,
 "nbformat_minor": 5
}
