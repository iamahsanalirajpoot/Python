{
 "cells": [
  {
   "cell_type": "markdown",
   "id": "2eeb95fb",
   "metadata": {},
   "source": [
    "# **Data Types in Python**"
   ]
  },
  {
   "cell_type": "markdown",
   "id": "f945e384",
   "metadata": {},
   "source": [
    "**Author :** Ahsan Ali Rajpoot  \n",
    "- **LinkedIn :** [linkedin.com/in/iamahsanalirajpoot](https://www.linkedin.com/in/iamahsanalirajpoot)  \n",
    "- **Facebook :** [facebook.com/iamahsanalirajpoot](https://www.facebook.com/iamahsanalirajpoot)  \n",
    "- **GitHub :** [github.com/iamahsanalirajpoot](https://github.com/iamahsanalirajpoot)  \n",
    "- **Kaggle :** [kaggle.com/ahsanalirajpoot](https://www.kaggle.com/ahsanalirajpoot)"
   ]
  },
  {
   "cell_type": "markdown",
   "id": "2929de37",
   "metadata": {},
   "source": [
    "## **What is Data Type**\n",
    "A **data type** is a classification that specifies the type of data a variable can hold. In Python, the main data types are:\n",
    "\n",
    "1. **Numeric Types**: These include integers `(int)`, floating-point numbers `(float)`, and complex numbers `(complex)`.\n",
    "\n",
    "2. **Text Type**: This includes strings `(str)`.\n",
    "\n",
    "3. **Sequence Types**: These include lists `(list)`, and tuples `(tuple)`.\n",
    "\n",
    "4. **Mapping Type**: This includes dictionaries `(dict)`.\n",
    "\n",
    "5. **Set Types**: These include sets `(set)` and frozensets `(frozenset)`.\n",
    "\n",
    "6. **Boolean Type**: This includes boolean values `(bool)`, which can be either True or False.\n",
    "\n",
    "7. **None Type**: This includes the NoneType, which has a single value, None."
   ]
  }
 ],
 "metadata": {
  "kernelspec": {
   "display_name": "learning",
   "language": "python",
   "name": "python3"
  },
  "language_info": {
   "codemirror_mode": {
    "name": "ipython",
    "version": 3
   },
   "file_extension": ".py",
   "mimetype": "text/x-python",
   "name": "python",
   "nbconvert_exporter": "python",
   "pygments_lexer": "ipython3",
   "version": "3.11.13"
  }
 },
 "nbformat": 4,
 "nbformat_minor": 5
}
