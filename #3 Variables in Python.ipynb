{
 "cells": [
  {
   "cell_type": "markdown",
   "id": "6cf1ce2e",
   "metadata": {
    "id": "6cf1ce2e"
   },
   "source": [
    "**Author :** Ahsan Ali Rajpoot  \n",
    "- **LinkedIn :** [linkedin.com/in/iamahsanalirajpoot](https://www.linkedin.com/in/iamahsanalirajpoot)  \n",
    "- **Facebook :** [facebook.com/iamahsanalirajpoot](https://www.facebook.com/iamahsanalirajpoot)  \n",
    "- **GitHub :** [github.com/iamahsanalirajpoot](https://github.com/iamahsanalirajpoot)  \n",
    "- **Kaggle :** [kaggle.com/ahsanalirajpoot](https://www.kaggle.com/ahsanalirajpoot)"
   ]
  },
  {
   "cell_type": "markdown",
   "id": "d4574dbd",
   "metadata": {
    "id": "d4574dbd"
   },
   "source": [
    "## **Variables In Python**"
   ]
  },
  {
   "cell_type": "markdown",
   "id": "42ad9ad6",
   "metadata": {
    "id": "42ad9ad6"
   },
   "source": [
    "### **What Are Variables?**\n",
    "- A variable is a container that temporarily stores data during the execution of a program.\n",
    "- The value stored in a variable can change during the program's execution, which is why it is called a \"variable.\"\n"
   ]
  },
  {
   "cell_type": "markdown",
   "id": "6fab1c3d",
   "metadata": {
    "id": "6fab1c3d"
   },
   "source": [
    "### **Rules for Naming Variables:**\n",
    "**Key Rules:**\n",
    "- **Start with a Letter or Underscore:** Variable names must begin with a letter (a-z, A-Z) or an underscore (_).\\\n",
    " `Example:` username, _firstname\n",
    "\n",
    "- **Cannot start with a Number:** Variable names cannot begin with a digit.\\\n",
    " `Example:` 1user is invalid, but user1 is valid.\n",
    "\n",
    "- **Use Only Letters, Numbers, and Underscores:** Variable names can only contain letters, numbers, and underscores.\\\n",
    " `Example:` user_name, age1\n",
    "\n",
    "- **Case-Sensitive:** Variable names are case-sensitive.\\\n",
    " `Example:` FirstName and firstname are considered two different variables.\n",
    "\n",
    "- **Avoid Reserved Words:** Do not use Python’s reserved keywords (e.g., print, if, for) as variable names.\\\n",
    " `Example:` print = 10 is invalid because print is a reserved word.\n",
    "\n",
    "- **Meaningful Names:** Use meaningful and descriptive names for variables to improve code readability.\\\n",
    " `Example:` Use student_name instead of sn."
   ]
  },
  {
   "cell_type": "markdown",
   "id": "427d703a",
   "metadata": {
    "id": "427d703a"
   },
   "source": [
    "### **Initializing Variables**\n",
    "**Syntax:**\n",
    "To create a variable, you need three things:\n",
    "- **Variable Name:** The name of the variable (e.g., name).\n",
    "- **Assignment Operator:** The equal sign (=) is used to assign a value to the variable.\n",
    "- **Value:** The data you want to store in the variable (e.g., Ahsan).\n",
    "\n",
    "**Example:**"
   ]
  },
  {
   "cell_type": "markdown",
   "id": "75d70c85",
   "metadata": {
    "id": "75d70c85"
   },
   "source": [
    "Assigning a string value to a variable:"
   ]
  },
  {
   "cell_type": "code",
   "execution_count": 2,
   "id": "c8293178",
   "metadata": {
    "executionInfo": {
     "elapsed": 139,
     "status": "ok",
     "timestamp": 1749053674023,
     "user": {
      "displayName": "Ahsan Rajpoot",
      "userId": "07291457265130406735"
     },
     "user_tz": -300
    },
    "id": "c8293178"
   },
   "outputs": [],
   "source": [
    "name = \"Ahsan\"  # -> Here, 'name' is the variable name, and \"Ahsan\" is the value assigned to it"
   ]
  },
  {
   "cell_type": "markdown",
   "id": "834c5a2a",
   "metadata": {
    "id": "834c5a2a"
   },
   "source": [
    "Assigning an integer value to a variable:"
   ]
  },
  {
   "cell_type": "code",
   "execution_count": 3,
   "id": "75872dbd",
   "metadata": {
    "executionInfo": {
     "elapsed": 3,
     "status": "ok",
     "timestamp": 1749053674033,
     "user": {
      "displayName": "Ahsan Rajpoot",
      "userId": "07291457265130406735"
     },
     "user_tz": -300
    },
    "id": "75872dbd"
   },
   "outputs": [],
   "source": [
    "age = 18  # -> Here, 'age' is the variable name, and \"18\" is the value assigned to it"
   ]
  }
 ],
 "metadata": {
  "colab": {
   "provenance": [],
   "toc_visible": true
  },
  "kernelspec": {
   "display_name": "learning",
   "language": "python",
   "name": "python3"
  },
  "language_info": {
   "codemirror_mode": {
    "name": "ipython",
    "version": 3
   },
   "file_extension": ".py",
   "mimetype": "text/x-python",
   "name": "python",
   "nbconvert_exporter": "python",
   "pygments_lexer": "ipython3",
   "version": "3.11.13"
  }
 },
 "nbformat": 4,
 "nbformat_minor": 5
}
